{
 "cells": [
  {
   "cell_type": "markdown",
   "metadata": {
    "collapsed": true
   },
   "source": [
    " Objective: \n",
    "           When one thinks about prestige in the filmmaking industry, the Academy Awards always come to mind. That being said, there are often always Oscar favorites, that are pegged to be sure winners from the get go. The purpose of this project is to explore the different correlations between films that are Oscar recipients, to see if there is indeed a particular  make an Oscar winning movie.\n",
    "           \n",
    " Datasets: \n",
    "           IMDB Top 5000 Movies\n",
    "           The Academy Awards 1925-2015"
   ]
  },
  {
   "cell_type": "code",
   "execution_count": 1,
   "metadata": {
    "collapsed": true
   },
   "outputs": [],
   "source": [
    "import pandas as pd\n",
    "import numpy as np\n",
    "import patsy\n",
    "import statsmodels.api as sm\n",
    "from scipy.stats import ttest_ind\n",
    "import matplotlib.pyplot as plt\n"
   ]
  },
  {
   "cell_type": "markdown",
   "metadata": {},
   "source": [
    "Firstly, I cleaned up the data from both csv-s, taking out the data I wanted to explore and merging the two."
   ]
  },
  {
   "cell_type": "code",
   "execution_count": 2,
   "metadata": {
    "collapsed": false
   },
   "outputs": [],
   "source": [
    "#oscars dataset from 1927-2015\n",
    "oscars = pd.read_csv('database.csv')\n",
    "#imdb top 5000 dataset\n",
    "imdb = pd.read_csv('movie_metadata.csv', encoding = \"ISO-8859-1\")"
   ]
  },
  {
   "cell_type": "code",
   "execution_count": 3,
   "metadata": {
    "collapsed": false
   },
   "outputs": [],
   "source": [
    "#film names had two junk characters appended at the end-cleaned up\n",
    "imdb['Film'] = imdb['Film'].str[:-2]"
   ]
  },
  {
   "cell_type": "code",
   "execution_count": 4,
   "metadata": {
    "collapsed": false
   },
   "outputs": [],
   "source": [
    "#picked pertinent selectors for both datasets\n",
    "imdb = imdb[['director_name', 'Film', 'gross', 'genres', 'duration', 'plot_keywords']]\n",
    "oscars = oscars[['Year', 'Award', 'Name', 'Film']]"
   ]
  },
  {
   "cell_type": "code",
   "execution_count": 5,
   "metadata": {
    "collapsed": false
   },
   "outputs": [],
   "source": [
    "#used film name to merge the two datasets\n",
    "joined = pd.merge(imdb, oscars, on=\"Film\")"
   ]
  },
  {
   "cell_type": "code",
   "execution_count": 6,
   "metadata": {
    "collapsed": false
   },
   "outputs": [
    {
     "data": {
      "text/html": [
       "<div>\n",
       "<table border=\"1\" class=\"dataframe\">\n",
       "  <thead>\n",
       "    <tr style=\"text-align: right;\">\n",
       "      <th></th>\n",
       "      <th>director_name</th>\n",
       "      <th>Film</th>\n",
       "      <th>gross</th>\n",
       "      <th>genres</th>\n",
       "      <th>duration</th>\n",
       "      <th>plot_keywords</th>\n",
       "      <th>Year</th>\n",
       "      <th>Award</th>\n",
       "      <th>Name</th>\n",
       "    </tr>\n",
       "  </thead>\n",
       "  <tbody>\n",
       "    <tr>\n",
       "      <th>0</th>\n",
       "      <td>James Cameron</td>\n",
       "      <td>Titanic</td>\n",
       "      <td>658672302.0</td>\n",
       "      <td>Drama|Romance</td>\n",
       "      <td>194.0</td>\n",
       "      <td>artist|love|ship|titanic|wet</td>\n",
       "      <td>1997</td>\n",
       "      <td>Actress in a Leading Role</td>\n",
       "      <td>Kate Winslet</td>\n",
       "    </tr>\n",
       "    <tr>\n",
       "      <th>1</th>\n",
       "      <td>James Cameron</td>\n",
       "      <td>Titanic</td>\n",
       "      <td>658672302.0</td>\n",
       "      <td>Drama|Romance</td>\n",
       "      <td>194.0</td>\n",
       "      <td>artist|love|ship|titanic|wet</td>\n",
       "      <td>1997</td>\n",
       "      <td>Actress in a Supporting Role</td>\n",
       "      <td>Gloria Stuart</td>\n",
       "    </tr>\n",
       "    <tr>\n",
       "      <th>2</th>\n",
       "      <td>Christopher Nolan</td>\n",
       "      <td>The Dark Knight</td>\n",
       "      <td>533316061.0</td>\n",
       "      <td>Action|Crime|Drama|Thriller</td>\n",
       "      <td>152.0</td>\n",
       "      <td>based on comic book|dc comics|psychopath|star ...</td>\n",
       "      <td>2008</td>\n",
       "      <td>Actor in a Supporting Role</td>\n",
       "      <td>Heath Ledger</td>\n",
       "    </tr>\n",
       "    <tr>\n",
       "      <th>3</th>\n",
       "      <td>David Fincher</td>\n",
       "      <td>The Curious Case of Benjamin Button</td>\n",
       "      <td>127490802.0</td>\n",
       "      <td>Drama|Fantasy|Romance</td>\n",
       "      <td>166.0</td>\n",
       "      <td>deformed baby|diary|lingerie slip|older man yo...</td>\n",
       "      <td>2008</td>\n",
       "      <td>Actor in a Leading Role</td>\n",
       "      <td>Brad Pitt</td>\n",
       "    </tr>\n",
       "    <tr>\n",
       "      <th>4</th>\n",
       "      <td>David Fincher</td>\n",
       "      <td>The Curious Case of Benjamin Button</td>\n",
       "      <td>127490802.0</td>\n",
       "      <td>Drama|Fantasy|Romance</td>\n",
       "      <td>166.0</td>\n",
       "      <td>deformed baby|diary|lingerie slip|older man yo...</td>\n",
       "      <td>2008</td>\n",
       "      <td>Actress in a Supporting Role</td>\n",
       "      <td>Taraji P. Henson</td>\n",
       "    </tr>\n",
       "  </tbody>\n",
       "</table>\n",
       "</div>"
      ],
      "text/plain": [
       "       director_name                                 Film        gross  \\\n",
       "0      James Cameron                              Titanic  658672302.0   \n",
       "1      James Cameron                              Titanic  658672302.0   \n",
       "2  Christopher Nolan                      The Dark Knight  533316061.0   \n",
       "3      David Fincher  The Curious Case of Benjamin Button  127490802.0   \n",
       "4      David Fincher  The Curious Case of Benjamin Button  127490802.0   \n",
       "\n",
       "                        genres  duration  \\\n",
       "0                Drama|Romance     194.0   \n",
       "1                Drama|Romance     194.0   \n",
       "2  Action|Crime|Drama|Thriller     152.0   \n",
       "3        Drama|Fantasy|Romance     166.0   \n",
       "4        Drama|Fantasy|Romance     166.0   \n",
       "\n",
       "                                       plot_keywords  Year  \\\n",
       "0                       artist|love|ship|titanic|wet  1997   \n",
       "1                       artist|love|ship|titanic|wet  1997   \n",
       "2  based on comic book|dc comics|psychopath|star ...  2008   \n",
       "3  deformed baby|diary|lingerie slip|older man yo...  2008   \n",
       "4  deformed baby|diary|lingerie slip|older man yo...  2008   \n",
       "\n",
       "                          Award              Name  \n",
       "0     Actress in a Leading Role      Kate Winslet  \n",
       "1  Actress in a Supporting Role     Gloria Stuart  \n",
       "2    Actor in a Supporting Role      Heath Ledger  \n",
       "3       Actor in a Leading Role         Brad Pitt  \n",
       "4  Actress in a Supporting Role  Taraji P. Henson  "
      ]
     },
     "execution_count": 6,
     "metadata": {},
     "output_type": "execute_result"
    }
   ],
   "source": [
    "dropped_df = joined.dropna()\n",
    "\n",
    "dropped_df.head()\n"
   ]
  },
  {
   "cell_type": "markdown",
   "metadata": {},
   "source": [
    "I then explored the possbility if a particular genre of film might be more likely to nab an award. The common misconception is that Oscars are categorized by genre. However, this is untrue. They are in fact categorized by roles in the film ( Actor, Music Score, etc ) or by category ( Independant Film, Documentary, etc ). \n",
    "\n",
    "The visualization below is a word cloud with all the genres of the Oscar winning films with size based on the frequency of that given drama. The data set presented the genres for the films with a string of subgenres which leads to the majority of genre strings being unique, skewing the word cloud.\n",
    "\n",
    "Therefore, I decided to split the genre strings up and find the word frequencies for every individual genre."
   ]
  },
  {
   "cell_type": "code",
   "execution_count": 7,
   "metadata": {
    "collapsed": false,
    "scrolled": true
   },
   "outputs": [
    {
     "data": {
      "text/html": [
       "\n",
       "<div class='tableauPlaceholder' id='viz1501801152816' style='position: relative'><noscript><a href='#'><img alt='Sheet 1 ' src='https:&#47;&#47;public.tableau.com&#47;static&#47;images&#47;At&#47;Attempt1_14&#47;Sheet1&#47;1_rss.png' style='border: none' /></a></noscript><object class='tableauViz'  style='display:none;'><param name='host_url' value='https%3A%2F%2Fpublic.tableau.com%2F' /> <param name='site_root' value='' /><param name='name' value='Attempt1_14&#47;Sheet1' /><param name='tabs' value='no' /><param name='toolbar' value='yes' /><param name='static_image' value='https:&#47;&#47;public.tableau.com&#47;static&#47;images&#47;At&#47;Attempt1_14&#47;Sheet1&#47;1.png' /> <param name='animate_transition' value='yes' /><param name='display_static_image' value='yes' /><param name='display_spinner' value='yes' /><param name='display_overlay' value='yes' /><param name='display_count' value='yes' /><param name='filter' value='publish=yes' /></object></div>                <script type='text/javascript'>                    var divElement = document.getElementById('viz1501801152816');                    var vizElement = divElement.getElementsByTagName('object')[0];                    vizElement.style.width='100%';vizElement.style.height=(divElement.offsetWidth*0.75)+'px';                    var scriptElement = document.createElement('script');                    scriptElement.src = 'https://public.tableau.com/javascripts/api/viz_v1.js';                    vizElement.parentNode.insertBefore(scriptElement, vizElement);                </script>"
      ],
      "text/plain": [
       "<IPython.core.display.HTML object>"
      ]
     },
     "metadata": {},
     "output_type": "display_data"
    }
   ],
   "source": [
    "%%HTML\n",
    "\n",
    "<div class='tableauPlaceholder' id='viz1501801152816' style='position: relative'><noscript><a href='#'><img alt='Sheet 1 ' src='https:&#47;&#47;public.tableau.com&#47;static&#47;images&#47;At&#47;Attempt1_14&#47;Sheet1&#47;1_rss.png' style='border: none' /></a></noscript><object class='tableauViz'  style='display:none;'><param name='host_url' value='https%3A%2F%2Fpublic.tableau.com%2F' /> <param name='site_root' value='' /><param name='name' value='Attempt1_14&#47;Sheet1' /><param name='tabs' value='no' /><param name='toolbar' value='yes' /><param name='static_image' value='https:&#47;&#47;public.tableau.com&#47;static&#47;images&#47;At&#47;Attempt1_14&#47;Sheet1&#47;1.png' /> <param name='animate_transition' value='yes' /><param name='display_static_image' value='yes' /><param name='display_spinner' value='yes' /><param name='display_overlay' value='yes' /><param name='display_count' value='yes' /><param name='filter' value='publish=yes' /></object></div>                <script type='text/javascript'>                    var divElement = document.getElementById('viz1501801152816');                    var vizElement = divElement.getElementsByTagName('object')[0];                    vizElement.style.width='100%';vizElement.style.height=(divElement.offsetWidth*0.75)+'px';                    var scriptElement = document.createElement('script');                    scriptElement.src = 'https://public.tableau.com/javascripts/api/viz_v1.js';                    vizElement.parentNode.insertBefore(scriptElement, vizElement);                </script>\n"
   ]
  },
  {
   "cell_type": "code",
   "execution_count": 8,
   "metadata": {
    "collapsed": false
   },
   "outputs": [],
   "source": [
    "#clean up film genres\n",
    "genres = []\n",
    "for row in joined['genres']:\n",
    "   genres.extend(row.split('|'))\n"
   ]
  },
  {
   "cell_type": "markdown",
   "metadata": {},
   "source": [
    "Splitting up the genres presented a more pertinant slice of the data. Drama proved to be a clear winner in terms of frequency. This could be due to many reasons. By definition, drama is: \n",
    "\n",
    "\" [a] composition in verse or prose intended to portray life or character or to tell a story usually involving conflicts and emotions through action and dialogue and typically designed for theatrical performance \"\n",
    "\n",
    "This can practically be attributed with any film, leading to it being included in almost every genre string. \n",
    "\n",
    "The second most frequent drama was Romance with 224 hits."
   ]
  },
  {
   "cell_type": "code",
   "execution_count": 9,
   "metadata": {
    "collapsed": false
   },
   "outputs": [
    {
     "data": {
      "text/html": [
       "\n",
       "<div class='tableauPlaceholder' id='viz1501801299793' style='position: relative'><noscript><a href='#'><img alt='&lt;Genre Map&gt; ' src='https:&#47;&#47;public.tableau.com&#47;static&#47;images&#47;Ge&#47;Genre_Map&#47;Sheet2&#47;1_rss.png' style='border: none' /></a></noscript><object class='tableauViz'  style='display:none;'><param name='host_url' value='https%3A%2F%2Fpublic.tableau.com%2F' /> <param name='site_root' value='' /><param name='name' value='Genre_Map&#47;Sheet2' /><param name='tabs' value='no' /><param name='toolbar' value='yes' /><param name='static_image' value='https:&#47;&#47;public.tableau.com&#47;static&#47;images&#47;Ge&#47;Genre_Map&#47;Sheet2&#47;1.png' /> <param name='animate_transition' value='yes' /><param name='display_static_image' value='yes' /><param name='display_spinner' value='yes' /><param name='display_overlay' value='yes' /><param name='display_count' value='yes' /><param name='filter' value='publish=yes' /></object></div>                <script type='text/javascript'>                    var divElement = document.getElementById('viz1501801299793');                    var vizElement = divElement.getElementsByTagName('object')[0];                    vizElement.style.width='100%';vizElement.style.height=(divElement.offsetWidth*0.75)+'px';                    var scriptElement = document.createElement('script');                    scriptElement.src = 'https://public.tableau.com/javascripts/api/viz_v1.js';                    vizElement.parentNode.insertBefore(scriptElement, vizElement);                </script>"
      ],
      "text/plain": [
       "<IPython.core.display.HTML object>"
      ]
     },
     "metadata": {},
     "output_type": "display_data"
    }
   ],
   "source": [
    "%%HTML\n",
    "\n",
    "<div class='tableauPlaceholder' id='viz1501801299793' style='position: relative'><noscript><a href='#'><img alt='&lt;Genre Map&gt; ' src='https:&#47;&#47;public.tableau.com&#47;static&#47;images&#47;Ge&#47;Genre_Map&#47;Sheet2&#47;1_rss.png' style='border: none' /></a></noscript><object class='tableauViz'  style='display:none;'><param name='host_url' value='https%3A%2F%2Fpublic.tableau.com%2F' /> <param name='site_root' value='' /><param name='name' value='Genre_Map&#47;Sheet2' /><param name='tabs' value='no' /><param name='toolbar' value='yes' /><param name='static_image' value='https:&#47;&#47;public.tableau.com&#47;static&#47;images&#47;Ge&#47;Genre_Map&#47;Sheet2&#47;1.png' /> <param name='animate_transition' value='yes' /><param name='display_static_image' value='yes' /><param name='display_spinner' value='yes' /><param name='display_overlay' value='yes' /><param name='display_count' value='yes' /><param name='filter' value='publish=yes' /></object></div>                <script type='text/javascript'>                    var divElement = document.getElementById('viz1501801299793');                    var vizElement = divElement.getElementsByTagName('object')[0];                    vizElement.style.width='100%';vizElement.style.height=(divElement.offsetWidth*0.75)+'px';                    var scriptElement = document.createElement('script');                    scriptElement.src = 'https://public.tableau.com/javascripts/api/viz_v1.js';                    vizElement.parentNode.insertBefore(scriptElement, vizElement);                </script>"
   ]
  },
  {
   "cell_type": "code",
   "execution_count": 10,
   "metadata": {
    "collapsed": false,
    "scrolled": false
   },
   "outputs": [
    {
     "ename": "AttributeError",
     "evalue": "'list' object has no attribute 'to_csv'",
     "output_type": "error",
     "traceback": [
      "\u001b[0;31m---------------------------------------------------------------------------\u001b[0m",
      "\u001b[0;31mAttributeError\u001b[0m                            Traceback (most recent call last)",
      "\u001b[0;32m<ipython-input-10-9fda5152c45a>\u001b[0m in \u001b[0;36m<module>\u001b[0;34m()\u001b[0m\n\u001b[1;32m      5\u001b[0m    \u001b[0mplot_words\u001b[0m\u001b[0;34m.\u001b[0m\u001b[0mextend\u001b[0m\u001b[0;34m(\u001b[0m\u001b[0mplot_word\u001b[0m\u001b[0;34m.\u001b[0m\u001b[0msplit\u001b[0m\u001b[0;34m(\u001b[0m\u001b[0;34m'|'\u001b[0m\u001b[0;34m)\u001b[0m\u001b[0;34m)\u001b[0m\u001b[0;34m\u001b[0m\u001b[0m\n\u001b[1;32m      6\u001b[0m \u001b[0;34m\u001b[0m\u001b[0m\n\u001b[0;32m----> 7\u001b[0;31m \u001b[0mplot_words\u001b[0m\u001b[0;34m.\u001b[0m\u001b[0mto_csv\u001b[0m\u001b[0;34m(\u001b[0m \u001b[0;34m'plot_words.csv'\u001b[0m \u001b[0;34m)\u001b[0m\u001b[0;34m\u001b[0m\u001b[0m\n\u001b[0m\u001b[1;32m      8\u001b[0m \u001b[0;31m#key_word.to_csv('key_words.csv')\u001b[0m\u001b[0;34m\u001b[0m\u001b[0;34m\u001b[0m\u001b[0m\n",
      "\u001b[0;31mAttributeError\u001b[0m: 'list' object has no attribute 'to_csv'"
     ]
    }
   ],
   "source": [
    "plot_words = []\n",
    "\n",
    "non_null = joined[joined['plot_keywords'].notnull()]\n",
    "for plot_word in non_null['plot_keywords']:\n",
    "   plot_words.extend(plot_word.split('|'))\n",
    "\n",
    "plot_words.to_csv( 'plot_words.csv' )  \n",
    "#key_word.to_csv('key_words.csv')"
   ]
  },
  {
   "cell_type": "code",
   "execution_count": null,
   "metadata": {
    "collapsed": true
   },
   "outputs": [],
   "source": []
  },
  {
   "cell_type": "code",
   "execution_count": null,
   "metadata": {
    "collapsed": true
   },
   "outputs": [],
   "source": []
  }
 ],
 "metadata": {
  "kernelspec": {
   "display_name": "Python 3",
   "language": "python",
   "name": "python3"
  },
  "language_info": {
   "codemirror_mode": {
    "name": "ipython",
    "version": 3
   },
   "file_extension": ".py",
   "mimetype": "text/x-python",
   "name": "python",
   "nbconvert_exporter": "python",
   "pygments_lexer": "ipython3",
   "version": "3.6.0"
  }
 },
 "nbformat": 4,
 "nbformat_minor": 2
}
